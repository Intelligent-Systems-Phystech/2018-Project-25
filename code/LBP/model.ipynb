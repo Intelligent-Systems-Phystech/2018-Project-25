{
 "cells": [
  {
   "cell_type": "code",
   "execution_count": 2,
   "metadata": {},
   "outputs": [],
   "source": [
    "import numpy as np\n",
    "from featuremaker import *\n",
    "from sklearn.svm import LinearSVC"
   ]
  },
  {
   "cell_type": "code",
   "execution_count": 20,
   "metadata": {},
   "outputs": [],
   "source": [
    "addr = 'INRIAPerson/train_64x128_H96'\n",
    "addr_ = 'INRIAPerson/test_64x128_H96'\n",
    "\n",
    "poshists_train = np.array(makehist_positive_norm('train', number = 1500))\n",
    "#poshists_train_hog = np.array(makehist_positive_norm(addr, 'HOG'))\n",
    "\n",
    "neghists_train = np.array(makehist_negative('Train', number = 1500))\n",
    "#neghists_train_hog = np.array(makehist_negative('Train', 'HOG'))\n",
    "\n",
    "poshists_test = np.array(makehist_positive_norm('train', number = 1500))\n",
    "#poshists_test_hog = np.array(makehist_positive_norm(addr_, 'HOG'))\n",
    "\n",
    "neghists_test = np.array(makehist_negative('Test', number = 1500))\n",
    "#neghists_test_hog = np.array(makehist_negative('Test', 'HOG'))\n",
    "\n",
    "####################################################################\n",
    "\n",
    "poshists_train = poshists_train.reshape(poshists_train.shape[0], poshists_train.shape[1])\n",
    "#poshists_train_hog = poshists_train.reshape(poshists_train_hog.shape[0], poshists_train.shape[1])\n",
    "\n",
    "neghists_train = neghists_train.reshape(neghists_train.shape[0], neghists_train.shape[1])\n",
    "#neghists_train_hog = neghists_train.reshape(neghists_train_hog.shape[0], neghists_train.shape[1])\n",
    "\n",
    "poshists_test = poshists_test.reshape(poshists_test.shape[0], poshists_test.shape[1])\n",
    "#poshists_test_hog = poshists_test.reshape(poshists_test_hog.shape[0], poshists_test.shape[1])\n",
    "\n",
    "neghists_test = neghists_test.reshape(neghists_test.shape[0], neghists_test.shape[1])\n",
    "#neghists_test_hog = neghists_test.reshape(neghists_test_hog.shape[0], neghists_test.shape[1])\n",
    "\n",
    "npos =  poshists_train.shape[0]\n",
    "nneg =  neghists_train.shape[0]\n",
    "\n",
    "X_train = np.vstack((poshists_train, neghists_train))\n",
    "#X_train_hog = np.vstack((poshists_train_hog, neghists_train_hog))\n",
    "\n",
    "Y_train = np.zeros(npos + nneg)\n",
    "Y_train[:npos] = 1"
   ]
  },
  {
   "cell_type": "code",
   "execution_count": 24,
   "metadata": {},
   "outputs": [
    {
     "data": {
      "text/plain": [
       "(3000, 7560)"
      ]
     },
     "execution_count": 24,
     "metadata": {},
     "output_type": "execute_result"
    }
   ],
   "source": [
    "X_test.shape"
   ]
  },
  {
   "cell_type": "code",
   "execution_count": 23,
   "metadata": {},
   "outputs": [],
   "source": [
    "npos_ = poshists_test.shape[0]\n",
    "nneg_ = neghists_test.shape[0]\n",
    "\n",
    "X_test = np.vstack((poshists_test, neghists_test))\n",
    "Y_test = np.zeros(npos_ + nneg_)\n",
    "Y_test[:npos_] = 1"
   ]
  },
  {
   "cell_type": "code",
   "execution_count": 28,
   "metadata": {},
   "outputs": [],
   "source": [
    "X_train_hog = X_train[:,:3780]\n",
    "X_test_hog = X_test[:,:3780]"
   ]
  },
  {
   "cell_type": "code",
   "execution_count": 29,
   "metadata": {},
   "outputs": [
    {
     "data": {
      "text/plain": [
       "LinearSVC(C=1.0, class_weight=None, dual=True, fit_intercept=True,\n",
       "     intercept_scaling=1, loss='squared_hinge', max_iter=1000,\n",
       "     multi_class='ovr', penalty='l2', random_state=0, tol=0.01, verbose=0)"
      ]
     },
     "execution_count": 29,
     "metadata": {},
     "output_type": "execute_result"
    }
   ],
   "source": [
    "clf = LinearSVC(random_state=0, tol=1e-2)\n",
    "clf.fit(X_train, Y_train)"
   ]
  },
  {
   "cell_type": "code",
   "execution_count": 30,
   "metadata": {},
   "outputs": [
    {
     "data": {
      "text/plain": [
       "1.0"
      ]
     },
     "execution_count": 30,
     "metadata": {},
     "output_type": "execute_result"
    }
   ],
   "source": [
    "clf.score(X_test, Y_test)"
   ]
  },
  {
   "cell_type": "code",
   "execution_count": 31,
   "metadata": {},
   "outputs": [
    {
     "data": {
      "text/plain": [
       "LinearSVC(C=1.0, class_weight=None, dual=True, fit_intercept=True,\n",
       "     intercept_scaling=1, loss='squared_hinge', max_iter=1000,\n",
       "     multi_class='ovr', penalty='l2', random_state=0, tol=0.01, verbose=0)"
      ]
     },
     "execution_count": 31,
     "metadata": {},
     "output_type": "execute_result"
    }
   ],
   "source": [
    "clf_hog = LinearSVC(random_state=0, tol=1e-2)\n",
    "clf_hog.fit(X_train_hog, Y_train)"
   ]
  },
  {
   "cell_type": "code",
   "execution_count": 32,
   "metadata": {},
   "outputs": [
    {
     "data": {
      "text/plain": [
       "1.0"
      ]
     },
     "execution_count": 32,
     "metadata": {},
     "output_type": "execute_result"
    }
   ],
   "source": [
    "clf_hog.score(X_test_hog, Y_test)"
   ]
  },
  {
   "cell_type": "code",
   "execution_count": 33,
   "metadata": {},
   "outputs": [
    {
     "data": {
      "text/plain": [
       "(3000, 3780)"
      ]
     },
     "execution_count": 33,
     "metadata": {},
     "output_type": "execute_result"
    }
   ],
   "source": [
    "X_train_hog.shape"
   ]
  },
  {
   "cell_type": "code",
   "execution_count": 35,
   "metadata": {},
   "outputs": [
    {
     "data": {
      "image/png": "[encoded data removed]",
      "text/plain": [
       "<Figure size 432x288 with 1 Axes>"
      ]
     },
     "metadata": {},
     "output_type": "display_data"
    },
    {
     "data": {
      "image/png": "[encoded data removed]",
      "text/plain": [
       "<Figure size 432x288 with 1 Axes>"
      ]
     },
     "metadata": {},
     "output_type": "display_data"
    }
   ],
   "source": [
    "import numpy as np\n",
    "import matplotlib.pyplot as plt\n",
    "from sklearn.naive_bayes import GaussianNB\n",
    "from sklearn.svm import SVC\n",
    "from sklearn.datasets import load_digits\n",
    "from sklearn.model_selection import learning_curve\n",
    "from sklearn.model_selection import ShuffleSplit\n",
    "\n",
    "\n",
    "def plot_learning_curve(estimator, title, X, y, ylim=(0.9,1.05), cv=None,\n",
    "                        n_jobs=None, train_sizes=np.linspace(.1, 1.0, 5)):\n",
    "    plt.figure()\n",
    "    plt.title(title)\n",
    "    if ylim is not None:\n",
    "        plt.ylim(*ylim)\n",
    "    plt.xlabel(\"Training examples\")\n",
    "    plt.ylabel(\"Score\")\n",
    "    train_sizes, train_scores, test_scores = learning_curve(\n",
    "        estimator, X, y, cv=cv, n_jobs=n_jobs, train_sizes=train_sizes)\n",
    "    train_scores_mean = np.mean(train_scores, axis=1)\n",
    "    train_scores_std = np.std(train_scores, axis=1)\n",
    "    test_scores_mean = np.mean(test_scores, axis=1)\n",
    "    test_scores_std = np.std(test_scores, axis=1)\n",
    "    plt.grid()\n",
    "\n",
    "    plt.fill_between(train_sizes, train_scores_mean - train_scores_std,\n",
    "                     train_scores_mean + train_scores_std, alpha=0.1,\n",
    "                     color=\"r\")\n",
    "    plt.fill_between(train_sizes, test_scores_mean - test_scores_std,\n",
    "                     test_scores_mean + test_scores_std, alpha=0.1, color=\"g\")\n",
    "    plt.plot(train_sizes, train_scores_mean, 'o-', color=\"r\",\n",
    "             label=\"Training score\")\n",
    "    \n",
    "\n",
    "    plt.legend(loc=\"best\")\n",
    "    return plt\n",
    "\n",
    "title = \"HOG+LBP\"\n",
    "title2 = \"HOG\"\n",
    "# SVC is more expensive so we do a lower number of CV iterations:\n",
    "cv = ShuffleSplit(n_splits=10, test_size=0.2, random_state=0)\n",
    "\n",
    "plot_learning_curve(clf, title, X_train, Y_train, (0.7, 1.01), cv=cv, n_jobs=4)\n",
    "plot_learning_curve(clf_hog, title2, X_train_hog, Y_train, (0.7, 1.01), cv=cv, n_jobs=4)\n",
    "\n",
    "plt.show()"
   ]
  }
 ],
 "metadata": {
  "kernelspec": {
   "display_name": "Python 2",
   "language": "python",
   "name": "python2"
  },
  "language_info": {
   "codemirror_mode": {
    "name": "ipython",
    "version": 2
   },
   "file_extension": ".py",
   "mimetype": "text/x-python",
   "name": "python",
   "nbconvert_exporter": "python",
   "pygments_lexer": "ipython2",
   "version": "2.7.15"
  }
 },
 "nbformat": 4,
 "nbformat_minor": 1
}
