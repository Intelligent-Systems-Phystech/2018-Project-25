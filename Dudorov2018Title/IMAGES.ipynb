{
 "cells": [
  {
   "cell_type": "code",
   "execution_count": 54,
   "metadata": {},
   "outputs": [],
   "source": [
    "import cv2\n",
    "import matplotlib.pyplot as plt\n",
    "import numpy as np\n",
    "import pandas as pd\n",
    "import os\n",
    "from sklearn import svm\n",
    "from sklearn.metrics import roc_curve\n",
    "\n",
    "%matplotlib inline\n",
    "plt.rcParams[\"figure.figsize\"] = (9,9)\n",
    "plt.rcParams[\"xtick.labelsize\"] = '15'\n",
    "plt.rcParams[\"ytick.labelsize\"] = '15'\n",
    "plt.rcParams[\"legend.fontsize\"] = 'x-large'\n",
    "\n"
   ]
  },
  {
   "cell_type": "code",
   "execution_count": 20,
   "metadata": {
    "collapsed": true
   },
   "outputs": [],
   "source": [
    "win_size = (64,128) \n",
    "block_size = (16,16)\n",
    "block_stride = (8,8)\n",
    "cell_size = (8,8)\n",
    "nbins = 9\n",
    "deriv_aperture = 1\n",
    "win_sigma = -1\n",
    "histogram_norm_type = 0\n",
    "l2_hys_threshold = 2.0000000000000001e-01\n",
    "gamma_correction = 0\n",
    "nlevels = 64\n",
    "hog = cv2.HOGDescriptor(win_size,block_size,block_stride,cell_size,nbins,deriv_aperture,win_sigma,\n",
    "                        histogram_norm_type,l2_hys_threshold,gamma_correction,nlevels)\n",
    "win_stride = (8, 8)\n",
    "\n",
    "C_SVM = 0.01\n",
    "\n",
    "pre_trained_size = 20"
   ]
  },
  {
   "cell_type": "code",
   "execution_count": 21,
   "metadata": {
    "collapsed": true
   },
   "outputs": [],
   "source": [
    "dets = [] #0.001, 0.01, 0.1, 1, deafult"
   ]
  },
  {
   "cell_type": "code",
   "execution_count": 22,
   "metadata": {
    "collapsed": true
   },
   "outputs": [],
   "source": [
    "#TestSrcPathPos = \"C:/Users/zoom_/courserattut/TRY/70X134H96/Test/pos\"\n",
    "TestSrcPathPos = \"C:/Users/zoom_/Desktop/val\"\n",
    "TestPosFileList = [f for f in os.listdir(TestSrcPathPos)]\n",
    "TestPos = []\n",
    "for x in TestPosFileList:\n",
    "    TestPos.append(os.path.join(TestSrcPathPos, x))\n",
    "\n",
    "TestSrcPathNeg = \"C:/Users/zoom_/courserattut/TRY/Test/neg\"\n",
    "TestNegFileList = [f for f in os.listdir(TestSrcPathNeg)]\n",
    "TestNeg = []\n",
    "for x in TestNegFileList:\n",
    "    TestNeg.append(os.path.join(TestSrcPathNeg, x))\n",
    "\n",
    "#TrainSrcPathPos = \"C:/Users/zoom_/courserattut/TRY/96X160H96/Train/pos\"\n",
    "TrainSrcPathPos = \"C:/Users/zoom_/Desktop/train\"\n",
    "TrainPosFileList = [f for f in os.listdir(TrainSrcPathPos)]\n",
    "TrainPos = []\n",
    "for x in TrainPosFileList:\n",
    "    TrainPos.append(os.path.join(TrainSrcPathPos, x))\n",
    "\n",
    "TrainSrcPathNeg = \"C:/Users/zoom_/courserattut/TRY/Train/neg\"\n",
    "TrainNegFileList = [f for f in os.listdir(TrainSrcPathNeg)]\n",
    "TrainNeg = []\n",
    "for x in TrainNegFileList:\n",
    "    TrainNeg.append(os.path.join(TrainSrcPathNeg, x))"
   ]
  },
  {
   "cell_type": "code",
   "execution_count": 23,
   "metadata": {
    "collapsed": true
   },
   "outputs": [],
   "source": [
    "Ytrain = []\n",
    "for i in range(0, len(TrainPos)):\n",
    "    Ytrain.append(1)\n",
    "for i in range(0, pre_trained_size * len(TrainNeg)): #size!!!\n",
    "    Ytrain.append(0)"
   ]
  },
  {
   "cell_type": "code",
   "execution_count": 19,
   "metadata": {},
   "outputs": [],
   "source": [
    "matrix = []\n",
    "    \n",
    "for t in TrainPos:\n",
    "    img = cv2.imread(t)\n",
    "    height, width = img.shape[:2]\n",
    "    locations = [((width-64)//2, (height-128)//2)]\n",
    "    descriptor = hog.compute(img, locations = locations)\n",
    "    matrix.append(descriptor)\n",
    "    \n",
    "for t in TrainNeg:\n",
    "    img = cv2.imread(t)\n",
    "    descriptors = hog.compute(img, winStride = win_stride).reshape(-1,3780)\n",
    "    indexes = np.random.randint(descriptors.shape[0], size=pre_trained_size) #size!!!\n",
    "    for rs in descriptors[indexes]:\n",
    "        matrix.append(np.reshape(rs, (3780, 1)))\n",
    "              \n",
    "matrix = np.reshape(matrix, (len(matrix),len(matrix[0])))"
   ]
  },
  {
   "cell_type": "code",
   "execution_count": 24,
   "metadata": {},
   "outputs": [
    {
     "data": {
      "text/plain": [
       "True"
      ]
     },
     "execution_count": 24,
     "metadata": {},
     "output_type": "execute_result"
    }
   ],
   "source": [
    "svm = cv2.ml.SVM_create()\n",
    "svm.setType(cv2.ml.SVM_C_SVC)\n",
    "svm.setKernel(cv2.ml.SVM_LINEAR)\n",
    "# svm.setDegree(0.0)\n",
    "# svm.setGamma(0.0)\n",
    "# svm.setCoef0(0.0)\n",
    "svm.setC(C_SVM)\n",
    "# svm.setNu(0.0)\n",
    "# svm.setP(0.0)\n",
    "# svm.setClassWeights(None)\n",
    "#svm.setTermCriteria((cv2.TERM_CRITERIA_COUNT, 100, 1.e-06))\n",
    "svm.train(matrix, cv2.ml.ROW_SAMPLE, np.array(Ytrain))"
   ]
  },
  {
   "cell_type": "code",
   "execution_count": 25,
   "metadata": {},
   "outputs": [],
   "source": [
    "svm_detector = []\n",
    "for i in range(0, 3780):\n",
    "    svm_detector.append(0)\n",
    "    \n",
    "df = svm.getDecisionFunction(0)\n",
    "alpha = df[1][0][0]\n",
    "rho = df[0]\n",
    "sv = svm.getSupportVectors()[0]\n",
    "\n",
    "k = 0\n",
    "for j in range(0, 3780):\n",
    "    svm_detector[j] += (-alpha) * sv[k]\n",
    "    k += 1\n",
    "        \n",
    "svm_detector.append(rho)\n",
    "hog.setSVMDetector(np.array(svm_detector))"
   ]
  },
  {
   "cell_type": "code",
   "execution_count": 26,
   "metadata": {
    "collapsed": true
   },
   "outputs": [],
   "source": [
    "hard_examples = []\n",
    "\n",
    "for t in TrainNeg:\n",
    "    img = cv2.imread(t)\n",
    "    (points, weights) = hog.detect(img, hitThreshold=-2000.0, winStride = (8, 8))\n",
    "    for i in range (0, len(weights)):\n",
    "        if(weights[i] > 0):\n",
    "            x = int(points[i][0])\n",
    "            y = int(points[i][1])\n",
    "            hard_examples.append(hog.compute(img, locations = [(x, y)]))"
   ]
  },
  {
   "cell_type": "code",
   "execution_count": 27,
   "metadata": {},
   "outputs": [
    {
     "data": {
      "text/plain": [
       "19646"
      ]
     },
     "execution_count": 27,
     "metadata": {},
     "output_type": "execute_result"
    }
   ],
   "source": [
    "len(hard_examples)"
   ]
  },
  {
   "cell_type": "code",
   "execution_count": 28,
   "metadata": {
    "collapsed": true
   },
   "outputs": [],
   "source": [
    "new_matrix = []\n",
    "for m in matrix:\n",
    "    new_matrix.append(np.reshape(m, (3780, 1)))\n",
    "for he in hard_examples:\n",
    "    new_matrix.append(np.reshape(he, (3780, 1)))"
   ]
  },
  {
   "cell_type": "code",
   "execution_count": 29,
   "metadata": {
    "collapsed": true
   },
   "outputs": [],
   "source": [
    "new_matrix = np.reshape(new_matrix, (len(new_matrix),len(new_matrix[0])))"
   ]
  },
  {
   "cell_type": "code",
   "execution_count": 30,
   "metadata": {
    "collapsed": true
   },
   "outputs": [],
   "source": [
    "Ytrain = []\n",
    "for i in range(0, len(TrainPos)):\n",
    "    Ytrain.append(1)\n",
    "for i in range(len(TrainPos), len(new_matrix)):\n",
    "    Ytrain.append(0)"
   ]
  },
  {
   "cell_type": "code",
   "execution_count": 32,
   "metadata": {},
   "outputs": [
    {
     "data": {
      "text/plain": [
       "True"
      ]
     },
     "execution_count": 32,
     "metadata": {},
     "output_type": "execute_result"
    }
   ],
   "source": [
    "svm = cv2.ml.SVM_create()\n",
    "svm.setType(cv2.ml.SVM_C_SVC)\n",
    "svm.setKernel(cv2.ml.SVM_LINEAR)\n",
    "# svm.setDegree(0.0)\n",
    "# svm.setGamma(0.0)\n",
    "# svm.setCoef0(0.0)\n",
    "svm.setC(C_SVM)\n",
    "# svm.setNu(0.0)\n",
    "# svm.setP(0.0)\n",
    "# svm.setClassWeights(None)\n",
    "#svm.setTermCriteria((cv2.TERM_CRITERIA_COUNT, 100, 1.e-06))\n",
    "svm.train(new_matrix, cv2.ml.ROW_SAMPLE, np.array(Ytrain))"
   ]
  },
  {
   "cell_type": "code",
   "execution_count": 33,
   "metadata": {
    "collapsed": true
   },
   "outputs": [],
   "source": [
    "svm_detector = []\n",
    "for i in range(0, 3780):\n",
    "    svm_detector.append(0)\n",
    "    \n",
    "df = svm.getDecisionFunction(0)\n",
    "alpha = df[1][0][0]\n",
    "rho = df[0]\n",
    "sv = svm.getSupportVectors()[0]\n",
    "\n",
    "k = 0\n",
    "for j in range(0, 3780):\n",
    "    svm_detector[j] += (-alpha) * sv[k]\n",
    "    k += 1\n",
    "        \n",
    "svm_detector.append(rho)\n",
    "hog.setSVMDetector(np.array(svm_detector))"
   ]
  },
  {
   "cell_type": "code",
   "execution_count": 569,
   "metadata": {
    "collapsed": true
   },
   "outputs": [],
   "source": [
    "#hog.setSVMDetector(cv2.HOGDescriptor_getDefaultPeopleDetector())"
   ]
  },
  {
   "cell_type": "code",
   "execution_count": 41,
   "metadata": {},
   "outputs": [
    {
     "name": "stdout",
     "output_type": "stream",
     "text": [
      "time = 4.1384342758942605 msec\n"
     ]
    }
   ],
   "source": [
    "answer = []\n",
    "\n",
    "import time\n",
    "\n",
    "start_time = time.perf_counter()\n",
    "\n",
    "for t in TestPos:\n",
    "    img = cv2.imread(t)\n",
    "    height, width = img.shape[:2]\n",
    "    x = int((width-64)//2)\n",
    "    y = int((height-128)//2)\n",
    "    #locations = [(x, y), (x + 1, y), (x + 2, y), (x + 3, y), (x - 1, y), (x - 2, y), (x - 3, y),\n",
    "     #           (x, y + 1), (x, y + 2), (x, y + 3), (x, y - 1), (x, y - 2), (x, y - 3)]\n",
    "    (points, weights) = hog.detect(img, hitThreshold=-2000.0, searchLocations = [(x, y)])\n",
    "    BestIndex = weights.argmax()\n",
    "    answer.append(weights[BestIndex])\n",
    "    \n",
    "num_loop = len(TestPos)\n",
    "finish_time = time.perf_counter() - start_time\n",
    "finish_time = (finish_time  * 1000)/(num_loop)\n",
    "print(\"time = {} msec\".format(finish_time))\n",
    "\n",
    "for t in TestNeg:\n",
    "    img = cv2.imread(t)\n",
    "    (points, weights) = hog.detect(img, hitThreshold=-2000.0, winStride=(8,8))\n",
    "    for w in weights:\n",
    "        answer.append(w)"
   ]
  },
  {
   "cell_type": "code",
   "execution_count": 42,
   "metadata": {
    "collapsed": true
   },
   "outputs": [],
   "source": [
    "answ = []\n",
    "for i in range(0, len(answer)):\n",
    "    answ.append(answer[i][0])"
   ]
  },
  {
   "cell_type": "code",
   "execution_count": 44,
   "metadata": {
    "collapsed": true
   },
   "outputs": [],
   "source": [
    "Ytest = []\n",
    "for i in range(0, len(TestPos)):\n",
    "    Ytest.append(1)\n",
    "for i in range(0, len(answ) - len(TestPos)):\n",
    "    Ytest.append(0)"
   ]
  },
  {
   "cell_type": "code",
   "execution_count": 45,
   "metadata": {
    "collapsed": true,
    "scrolled": true
   },
   "outputs": [],
   "source": [
    "fpr, tpr, tr = roc_curve(Ytest, answ)"
   ]
  },
  {
   "cell_type": "code",
   "execution_count": 46,
   "metadata": {
    "collapsed": true
   },
   "outputs": [],
   "source": [
    "det = []\n",
    "for t in tpr:\n",
    "    det.append(1 - t)"
   ]
  },
  {
   "cell_type": "code",
   "execution_count": 47,
   "metadata": {
    "collapsed": true
   },
   "outputs": [],
   "source": [
    "#dets = []"
   ]
  },
  {
   "cell_type": "code",
   "execution_count": 48,
   "metadata": {
    "collapsed": true
   },
   "outputs": [],
   "source": [
    "dets.append([fpr, det])"
   ]
  },
  {
   "cell_type": "code",
   "execution_count": 55,
   "metadata": {},
   "outputs": [
    {
     "data": {
      "image/png": "[encoded data removed]",
      "text/plain": [
       "<Figure size 648x648 with 1 Axes>"
      ]
     },
     "metadata": {
      "needs_background": "light"
     },
     "output_type": "display_data"
    }
   ],
   "source": [
    "fig = plt.figure()\n",
    "plt.title('HOG SVM CityScape', fontsize = 22)\n",
    "plt.ylabel(r'MissRate', fontsize=19)\n",
    "plt.xlabel(r'FPPW', fontsize=19)\n",
    "plt.xscale('log')\n",
    "plt.grid()\n",
    "plt.plot(dets[0][0], dets[0][1], label = 'C = 0.0001')\n",
    "#plt.plot(dets[1][0], dets[1][1], label = 'C = 0.001')\n",
    "#plt.plot(dets[2][0], dets[2][1], label = 'C = 0.01')\n",
    "#plt.plot(dets[3][0], dets[3][1], label = 'C = 0.1')\n",
    "#plt.plot(dets[4][0], dets[4][1], label = 'Default')\n",
    "plt.legend()\n",
    "plt.ylim(0, 0.4)\n",
    "fig.savefig('HOG_SVM_CityScape.png')"
   ]
  },
  {
   "cell_type": "code",
   "execution_count": 257,
   "metadata": {
    "collapsed": true
   },
   "outputs": [],
   "source": [
    "with open('HOG_SVM_INRIA.txt', 'w') as f:\n",
    "    for item in dets:\n",
    "        f.write(\"%s\\n\" % item)"
   ]
  },
  {
   "cell_type": "code",
   "execution_count": 360,
   "metadata": {
    "collapsed": true
   },
   "outputs": [],
   "source": [
    "def Reshape_in(Q):\n",
    "    RES=[]\n",
    "    for i in range(0,9):\n",
    "        a=[] #30 array with 14 elem\n",
    "        for j in range(0,7):\n",
    "            b=[] #14 elem\n",
    "            c=[]#14 elem\n",
    "            for k in range(0,15):\n",
    "                b.append(Q[2*j*30*9+k*36+i])\n",
    "                b.append(Q[2*j*30*9+k*36+i+9])\n",
    "                c.append(Q[2*j*30*9+k*36+i+18])\n",
    "                c.append(Q[2*j*30*9+k*36+i+27])\n",
    "            a.append(b)\n",
    "            a.append(c)\n",
    "        RES.append(a)\n",
    "    return RES"
   ]
  },
  {
   "cell_type": "code",
   "execution_count": 361,
   "metadata": {
    "collapsed": true
   },
   "outputs": [],
   "source": [
    "TrainNegDes = []\n",
    "TrainPosDes = []\n",
    "\n",
    "for i in range(0, len(TrainPos)):\n",
    "    TrainPosDes.append(matrix[i])\n",
    "for i in range(len(TrainPos), len(matrix)):\n",
    "    TrainNegDes.append(matrix[i])"
   ]
  },
  {
   "cell_type": "code",
   "execution_count": 362,
   "metadata": {
    "collapsed": true
   },
   "outputs": [],
   "source": [
    "import torch\n",
    "from torch.autograd import Variable\n",
    "import torch.nn.functional as F\n",
    "import torch.nn as nn\n",
    "import torch.optim as optim"
   ]
  },
  {
   "cell_type": "code",
   "execution_count": 366,
   "metadata": {},
   "outputs": [
    {
     "name": "stderr",
     "output_type": "stream",
     "text": [
      "C:\\Users\\zoom_\\Anaconda2\\envs\\py36\\lib\\site-packages\\torch\\nn\\functional.py:1006: UserWarning: nn.functional.sigmoid is deprecated. Use torch.sigmoid instead.\n",
      "  warnings.warn(\"nn.functional.sigmoid is deprecated. Use torch.sigmoid instead.\")\n"
     ]
    },
    {
     "name": "stdout",
     "output_type": "stream",
     "text": [
      "Loss: 0.8333\n",
      "Loss: 0.8333\n",
      "Loss: 0.8333\n",
      "Loss: 0.8333\n",
      "Loss: 0.8333\n",
      "Loss: 0.8333\n",
      "Loss: 0.8333\n",
      "Loss: 0.8333\n",
      "Loss: 0.8333\n",
      "Loss: 0.8333\n",
      "Loss: 0.8333\n",
      "Loss: 0.8333\n"
     ]
    }
   ],
   "source": [
    "class SimpleCNN(torch.nn.Module):\n",
    "    \n",
    "    #Our batch shape for input x is (3, 32, 32)    9x30x14\n",
    "    \n",
    "    def __init__(self):\n",
    "        super(SimpleCNN, self).__init__()\n",
    "        \n",
    "        #Input channels = 3, output channels = 18\n",
    "        self.conv1 = torch.nn.Conv2d(9, 18, kernel_size=3, stride=1, padding=1)\n",
    "        self.pool = torch.nn.MaxPool2d(kernel_size=2, stride=2, padding=0)\n",
    "        self.conv2 = torch.nn.Conv2d(18, 36, kernel_size=5, stride=1, padding=1)\n",
    "        #4608 input features, 64 output features (see sizing flow below)\n",
    "        self.fc1 = torch.nn.Linear(36 * 14 * 6, 64)\n",
    "        \n",
    "        #64 input features, 10 output features for our 10 defined classes\n",
    "        self.fc2 = torch.nn.Linear(64, 1)\n",
    "        #self.dropout = nn.Dropout(dropout)\n",
    "        \n",
    "    def forward(self, x):\n",
    "        \n",
    "        #Computes the activation of the first convolution\n",
    "        #Size changes from (3, 32, 32) to (18, 32, 32)   9x30x14 to 18x30x14\n",
    "        x = F.relu(self.conv1(x))\n",
    "        #print(x.shape)\n",
    "        #print(x.shape)\n",
    "        #to 18x14x6\n",
    "        x = F.relu(self.conv2(x))   #to 36x14x6\n",
    "        #print(x.shape)\n",
    "        #print(x.shape)\n",
    "        #Size changes from (18, 32, 32) to (18, 16, 16)  36x14x6 to 36x7x3\n",
    "        x = self.pool(x)\n",
    "        #Reshape data to input to the input layer of the neural net\n",
    "        #Size changes from (18, 16, 16) to (1, 4608)\n",
    "        #Recall that the -1 infers this dimension from the other given dimension\n",
    "        #print(x.shape)\n",
    "        x = x.view(-1, 36 * 14 * 6)\n",
    "        \n",
    "        #Computes the activation of the first fully connected layer\n",
    "        #Size changes from (1, 4608) to (1, 64)\n",
    "        x = F.relu(self.fc1(x))\n",
    "        \n",
    "        #Computes the second fully connected layer (activation applied later)\n",
    "        #Size changes from (1, 64) to (1, 10)\n",
    "        x = self.fc2(x)\n",
    "        return F.sigmoid(x)\n",
    "\n",
    "model = SimpleCNN()\n",
    "criterion = nn.HingeEmbeddingLoss()\n",
    "optimizer = optim.Adagrad(model.parameters(), lr=0.001)\n",
    "\n",
    "# Train the model\n",
    "batch_size = len(TrainPosDes) - 3\n",
    "for i in range(0, batch_size):\n",
    "    # Forward pass\n",
    "    #xinput = torch.tensor(Reshape_in(neg[i]), dtype = torch.float32)\n",
    "    inputs = []\n",
    "    labels = []\n",
    "    \n",
    "    for j in range(0, 3):\n",
    "        for k in range(0, int(len(TrainNegDes) / len(TrainPosDes))):\n",
    "            inputs.append(Reshape_in(TrainNegDes[i + k + j]))\n",
    "            labels.append([0])\n",
    "        inputs.append(Reshape_in(TrainPosDes[(i + j)]))\n",
    "        labels.append([1])\n",
    "        \n",
    "    inputs = torch.from_numpy(np.array(inputs))\n",
    "    labels = torch.tensor(labels, dtype = torch.float32)\n",
    "    #print(inputs.shape, labels)\n",
    "\n",
    "    outputs = model(inputs)\n",
    "    #print(outputs)\n",
    "\n",
    "    loss = criterion(outputs, labels)\n",
    "\n",
    "    # Backward and optimize\n",
    "    optimizer.zero_grad()\n",
    "    loss.backward()\n",
    "    optimizer.step()\n",
    "    if (i+1) % 200 == 0:\n",
    "        print ('Loss: {:.4f}' \n",
    "               .format(loss.item()))"
   ]
  },
  {
   "cell_type": "code",
   "execution_count": 368,
   "metadata": {
    "collapsed": true
   },
   "outputs": [
    {
     "name": "stderr",
     "output_type": "stream",
     "text": [
      "C:\\Users\\zoom_\\Anaconda2\\envs\\py36\\lib\\site-packages\\torch\\nn\\functional.py:1006: UserWarning: nn.functional.sigmoid is deprecated. Use torch.sigmoid instead.\n",
      "  warnings.warn(\"nn.functional.sigmoid is deprecated. Use torch.sigmoid instead.\")\n"
     ]
    },
    {
     "ename": "KeyboardInterrupt",
     "evalue": "",
     "output_type": "error",
     "traceback": [
      "\u001b[1;31m---------------------------------------------------------------------------\u001b[0m",
      "\u001b[1;31mKeyboardInterrupt\u001b[0m                         Traceback (most recent call last)",
      "\u001b[1;32m<ipython-input-368-136d21322c14>\u001b[0m in \u001b[0;36m<module>\u001b[1;34m()\u001b[0m\n\u001b[0;32m      6\u001b[0m         \u001b[0minputs\u001b[0m \u001b[1;33m=\u001b[0m \u001b[1;33m[\u001b[0m\u001b[0mReshape_in\u001b[0m\u001b[1;33m(\u001b[0m\u001b[0md\u001b[0m\u001b[1;33m)\u001b[0m\u001b[1;33m,\u001b[0m \u001b[0mReshape_in\u001b[0m\u001b[1;33m(\u001b[0m\u001b[0md\u001b[0m\u001b[1;33m)\u001b[0m\u001b[1;33m,\u001b[0m \u001b[0mReshape_in\u001b[0m\u001b[1;33m(\u001b[0m\u001b[0md\u001b[0m\u001b[1;33m)\u001b[0m\u001b[1;33m,\u001b[0m \u001b[0mReshape_in\u001b[0m\u001b[1;33m(\u001b[0m\u001b[0md\u001b[0m\u001b[1;33m)\u001b[0m\u001b[1;33m]\u001b[0m\u001b[1;33m\u001b[0m\u001b[0m\n\u001b[0;32m      7\u001b[0m         \u001b[0minputs\u001b[0m \u001b[1;33m=\u001b[0m \u001b[0mtorch\u001b[0m\u001b[1;33m.\u001b[0m\u001b[0mfrom_numpy\u001b[0m\u001b[1;33m(\u001b[0m\u001b[0mnp\u001b[0m\u001b[1;33m.\u001b[0m\u001b[0marray\u001b[0m\u001b[1;33m(\u001b[0m\u001b[0minputs\u001b[0m\u001b[1;33m)\u001b[0m\u001b[1;33m)\u001b[0m\u001b[1;33m\u001b[0m\u001b[0m\n\u001b[1;32m----> 8\u001b[1;33m         \u001b[0moutputs\u001b[0m \u001b[1;33m=\u001b[0m \u001b[0mmodel\u001b[0m\u001b[1;33m(\u001b[0m\u001b[0minputs\u001b[0m\u001b[1;33m)\u001b[0m\u001b[1;33m\u001b[0m\u001b[0m\n\u001b[0m\u001b[0;32m      9\u001b[0m         \u001b[1;32mif\u001b[0m\u001b[1;33m(\u001b[0m\u001b[0moutputs\u001b[0m\u001b[1;33m[\u001b[0m\u001b[1;36m0\u001b[0m\u001b[1;33m]\u001b[0m \u001b[1;33m>\u001b[0m \u001b[1;36m0.5\u001b[0m\u001b[1;33m)\u001b[0m\u001b[1;33m:\u001b[0m\u001b[1;33m\u001b[0m\u001b[0m\n\u001b[0;32m     10\u001b[0m             \u001b[0mhard_examples\u001b[0m\u001b[1;33m.\u001b[0m\u001b[0mappend\u001b[0m\u001b[1;33m(\u001b[0m\u001b[0md\u001b[0m\u001b[1;33m)\u001b[0m\u001b[1;33m\u001b[0m\u001b[0m\n",
      "\u001b[1;32m~\\Anaconda2\\envs\\py36\\lib\\site-packages\\torch\\nn\\modules\\module.py\u001b[0m in \u001b[0;36m__call__\u001b[1;34m(self, *input, **kwargs)\u001b[0m\n\u001b[0;32m    475\u001b[0m             \u001b[0mresult\u001b[0m \u001b[1;33m=\u001b[0m \u001b[0mself\u001b[0m\u001b[1;33m.\u001b[0m\u001b[0m_slow_forward\u001b[0m\u001b[1;33m(\u001b[0m\u001b[1;33m*\u001b[0m\u001b[0minput\u001b[0m\u001b[1;33m,\u001b[0m \u001b[1;33m**\u001b[0m\u001b[0mkwargs\u001b[0m\u001b[1;33m)\u001b[0m\u001b[1;33m\u001b[0m\u001b[0m\n\u001b[0;32m    476\u001b[0m         \u001b[1;32melse\u001b[0m\u001b[1;33m:\u001b[0m\u001b[1;33m\u001b[0m\u001b[0m\n\u001b[1;32m--> 477\u001b[1;33m             \u001b[0mresult\u001b[0m \u001b[1;33m=\u001b[0m \u001b[0mself\u001b[0m\u001b[1;33m.\u001b[0m\u001b[0mforward\u001b[0m\u001b[1;33m(\u001b[0m\u001b[1;33m*\u001b[0m\u001b[0minput\u001b[0m\u001b[1;33m,\u001b[0m \u001b[1;33m**\u001b[0m\u001b[0mkwargs\u001b[0m\u001b[1;33m)\u001b[0m\u001b[1;33m\u001b[0m\u001b[0m\n\u001b[0m\u001b[0;32m    478\u001b[0m         \u001b[1;32mfor\u001b[0m \u001b[0mhook\u001b[0m \u001b[1;32min\u001b[0m \u001b[0mself\u001b[0m\u001b[1;33m.\u001b[0m\u001b[0m_forward_hooks\u001b[0m\u001b[1;33m.\u001b[0m\u001b[0mvalues\u001b[0m\u001b[1;33m(\u001b[0m\u001b[1;33m)\u001b[0m\u001b[1;33m:\u001b[0m\u001b[1;33m\u001b[0m\u001b[0m\n\u001b[0;32m    479\u001b[0m             \u001b[0mhook_result\u001b[0m \u001b[1;33m=\u001b[0m \u001b[0mhook\u001b[0m\u001b[1;33m(\u001b[0m\u001b[0mself\u001b[0m\u001b[1;33m,\u001b[0m \u001b[0minput\u001b[0m\u001b[1;33m,\u001b[0m \u001b[0mresult\u001b[0m\u001b[1;33m)\u001b[0m\u001b[1;33m\u001b[0m\u001b[0m\n",
      "\u001b[1;32m<ipython-input-366-545e8f4585b2>\u001b[0m in \u001b[0;36mforward\u001b[1;34m(self, x)\u001b[0m\n\u001b[0;32m     25\u001b[0m         \u001b[1;31m#print(x.shape)\u001b[0m\u001b[1;33m\u001b[0m\u001b[1;33m\u001b[0m\u001b[0m\n\u001b[0;32m     26\u001b[0m         \u001b[1;31m#to 18x14x6\u001b[0m\u001b[1;33m\u001b[0m\u001b[1;33m\u001b[0m\u001b[0m\n\u001b[1;32m---> 27\u001b[1;33m         \u001b[0mx\u001b[0m \u001b[1;33m=\u001b[0m \u001b[0mF\u001b[0m\u001b[1;33m.\u001b[0m\u001b[0mrelu\u001b[0m\u001b[1;33m(\u001b[0m\u001b[0mself\u001b[0m\u001b[1;33m.\u001b[0m\u001b[0mconv2\u001b[0m\u001b[1;33m(\u001b[0m\u001b[0mx\u001b[0m\u001b[1;33m)\u001b[0m\u001b[1;33m)\u001b[0m   \u001b[1;31m#to 36x14x6\u001b[0m\u001b[1;33m\u001b[0m\u001b[0m\n\u001b[0m\u001b[0;32m     28\u001b[0m         \u001b[1;31m#print(x.shape)\u001b[0m\u001b[1;33m\u001b[0m\u001b[1;33m\u001b[0m\u001b[0m\n\u001b[0;32m     29\u001b[0m         \u001b[1;31m#print(x.shape)\u001b[0m\u001b[1;33m\u001b[0m\u001b[1;33m\u001b[0m\u001b[0m\n",
      "\u001b[1;32m~\\Anaconda2\\envs\\py36\\lib\\site-packages\\torch\\nn\\functional.py\u001b[0m in \u001b[0;36mrelu\u001b[1;34m(input, inplace)\u001b[0m\n\u001b[0;32m    641\u001b[0m     \u001b[1;32mif\u001b[0m \u001b[0minplace\u001b[0m\u001b[1;33m:\u001b[0m\u001b[1;33m\u001b[0m\u001b[0m\n\u001b[0;32m    642\u001b[0m         \u001b[1;32mreturn\u001b[0m \u001b[0mtorch\u001b[0m\u001b[1;33m.\u001b[0m\u001b[0mrelu_\u001b[0m\u001b[1;33m(\u001b[0m\u001b[0minput\u001b[0m\u001b[1;33m)\u001b[0m\u001b[1;33m\u001b[0m\u001b[0m\n\u001b[1;32m--> 643\u001b[1;33m     \u001b[1;32mreturn\u001b[0m \u001b[0mtorch\u001b[0m\u001b[1;33m.\u001b[0m\u001b[0mrelu\u001b[0m\u001b[1;33m(\u001b[0m\u001b[0minput\u001b[0m\u001b[1;33m)\u001b[0m\u001b[1;33m\u001b[0m\u001b[0m\n\u001b[0m\u001b[0;32m    644\u001b[0m \u001b[1;33m\u001b[0m\u001b[0m\n\u001b[0;32m    645\u001b[0m \u001b[1;33m\u001b[0m\u001b[0m\n",
      "\u001b[1;31mKeyboardInterrupt\u001b[0m: "
     ]
    }
   ],
   "source": [
    "for t in TrainNeg:\n",
    "    hard_examples = []\n",
    "    img = cv2.imread(t)\n",
    "    descriptors = hog.compute(img, winStride = win_stride).reshape(-1,3780)\n",
    "    for d in descriptors:\n",
    "        inputs = [Reshape_in(d), Reshape_in(d), Reshape_in(d), Reshape_in(d)]\n",
    "        inputs = torch.from_numpy(np.array(inputs))\n",
    "        outputs = model(inputs)\n",
    "        if(outputs[0] > 0.5):\n",
    "            hard_examples.append(d)\n",
    "    inputs = []\n",
    "    labels = []\n",
    "    if(len(hard_examples) == 0):\n",
    "        continue\n",
    "    for he in hard_examples:\n",
    "        inputs.append(Reshape_in(he))\n",
    "        labels.append([0])\n",
    "        inputs.append(Reshape_in(he))\n",
    "        labels.append([0])\n",
    "        inputs.append(Reshape_in(he))\n",
    "        labels.append([0])\n",
    "        inputs.append(Reshape_in(he))\n",
    "        labels.append([0])\n",
    "    inputs = torch.from_numpy(np.array(inputs))\n",
    "    labels = torch.tensor(labels, dtype = torch.float32)\n",
    "    #print(inputs.shape, labels)\n",
    "\n",
    "    outputs = model(inputs)\n",
    "    #print(outputs)\n",
    "\n",
    "    loss = criterion(outputs, labels)\n",
    "\n",
    "    # Backward and optimize\n",
    "    optimizer.zero_grad()\n",
    "    loss.backward()\n",
    "    optimizer.step()\n",
    "    if (i+1) % 200 == 0:\n",
    "        print ('Loss: {:.4f}' \n",
    "               .format(loss.item()))"
   ]
  },
  {
   "cell_type": "code",
   "execution_count": null,
   "metadata": {
    "collapsed": true
   },
   "outputs": [],
   "source": [
    "answer = []\n",
    "\n",
    "for t in TestPos:\n",
    "    img = cv2.imread(t)\n",
    "    height, width = img.shape[:2]\n",
    "    locations = [((width-64)//2, (height-128)//2)]\n",
    "    d = hog.compute(img, hitThreshold=-2000.0, locations = locations)\n",
    "    inputs = [Reshape_in(d), Reshape_in(d), Reshape_in(d), Reshape_in(d)]\n",
    "    inputs = torch.from_numpy(np.array(inputs))\n",
    "    outputs = model(inputs)\n",
    "    answer.append(outputs[0])\n",
    "\n",
    "for t in TestNeg:\n",
    "    img = cv2.imread(t)\n",
    "    descriptors = hog.compute(img, winStride = win_stride).reshape(-1,3780)\n",
    "    for d in descriptors:\n",
    "        inputs = [Reshape_in(d), Reshape_in(d), Reshape_in(d), Reshape_in(d)]\n",
    "        inputs = torch.from_numpy(np.array(inputs))\n",
    "        outputs = model(inputs)\n",
    "        answer.append(outputs[0])"
   ]
  },
  {
   "cell_type": "code",
   "execution_count": null,
   "metadata": {
    "collapsed": true
   },
   "outputs": [],
   "source": [
    "Ytest = []\n",
    "for i in range(0, len(TestPos)):\n",
    "    Ytest.append(1)\n",
    "for i in range(0, len(answer) - len(TestPos)):\n",
    "    Ytest.append(0)"
   ]
  },
  {
   "cell_type": "code",
   "execution_count": null,
   "metadata": {
    "collapsed": true
   },
   "outputs": [],
   "source": [
    "fpr, tpr, tr = roc_curve(Ytest, answer)"
   ]
  },
  {
   "cell_type": "code",
   "execution_count": null,
   "metadata": {
    "collapsed": true
   },
   "outputs": [],
   "source": [
    "det = []\n",
    "for t in tpr:\n",
    "    det.append(1 - t)"
   ]
  },
  {
   "cell_type": "code",
   "execution_count": null,
   "metadata": {
    "collapsed": true
   },
   "outputs": [],
   "source": [
    "plt.ylabel(r'MissRate', fontsize=19)\n",
    "plt.xlabel(r'FPPW', fontsize=19)\n",
    "plt.xscale('log')\n",
    "plt.grid()\n",
    "plt.plot(fpr, det)\n",
    "plt.ylim(0, 0.4)"
   ]
  }
 ],
 "metadata": {
  "kernelspec": {
   "display_name": "py36",
   "language": "python",
   "name": "py36"
  }
 },
 "nbformat": 4,
 "nbformat_minor": 2
}
